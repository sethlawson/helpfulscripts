{
 "cells": [
  {
   "cell_type": "code",
   "execution_count": 6,
   "id": "2a6c0512-cebc-4699-9cb3-a25abc641b14",
   "metadata": {},
   "outputs": [
    {
     "data": {
      "text/plain": [
       "\"\\nfor i in mo:\\n    print(i)\\n    for j in range(startkmer, len(i)-(kmerlength-1)):\\n        print(i[j:j+kmerlength])\\n        for row in kmer_df.index:\\n            if row == i[j:j+kmerlength]:\\n                kmer_df.loc[row, 'count'] = kmer_df.loc[row, 'count'] + 1\\n\\n\""
      ]
     },
     "execution_count": 6,
     "metadata": {},
     "output_type": "execute_result"
    }
   ],
   "source": [
    "import pandas as pd\n",
    "import re\n",
    "\n",
    "kmerlength = 4 #can only handle 3 or 4 right now\n",
    "startkmer = 0 #0 to count whole sequence, 7 to exclude seed sequence\n",
    "\n",
    "kmer_df = pd.read_excel(r'C:\\Users\\lawsonsa\\Documents\\kmer empty.xlsx', (kmerlength-3), header=None, names=['kmer', 'count'], index_col=0)\n",
    "\n",
    "#fastalist = open(r'C:\\Users\\lawsonsa\\Documents\\fastalist.txt', 'r')\n",
    "fastalist = open(r\"C:\\Users\\lawsonsa\\Downloads\\hairpin_hsa.fa\", 'r')\n",
    "\n",
    "lines = fastalist.readlines()\n",
    "fastastring = ''\n",
    "for line in lines:\n",
    "    fastastring = fastastring + line\n",
    "\n",
    "seqregex = re.compile(r'\\n(\\w+)+')\n",
    "mo = seqregex.findall(fastastring)\n",
    "\n",
    "for i in mo:\n",
    "    print(i)\n",
    "    for j in range(startkmer, len(i)-(kmerlength-1)):\n",
    "        print(i[j:j+kmerlength])\n",
    "        for row in kmer_df.index:\n",
    "            if row == i[j:j+kmerlength]:\n",
    "                kmer_df.loc[row, 'count'] = kmer_df.loc[row, 'count'] + 1\n",
    "\n",
    "fastalist.close()\n"
   ]
  },
  {
   "cell_type": "code",
   "execution_count": 3,
   "id": "ea752d27-33e1-4439-8bd2-55cc3731e613",
   "metadata": {},
   "outputs": [],
   "source": [
    "#kmer_df.nlargest(30, 'count')\n",
    "#kmer_df.nsmallest(30, 'count')\n",
    "#kmer_df.value_counts()\n",
    "#kmer_df.loc['GGAG', 'count']a\n",
    "#kmer_df['count'].mean()\n",
    "kmer_df.to_excel(r'C:\\Users\\lawsonsa\\Desktop\\kmers of all mirs2.xlsx')"
   ]
  },
  {
   "cell_type": "code",
   "execution_count": null,
   "id": "a3235a61-ae41-4b7c-892a-33c16e8f547b",
   "metadata": {},
   "outputs": [],
   "source": []
  }
 ],
 "metadata": {
  "kernelspec": {
   "display_name": "Python 3 (ipykernel)",
   "language": "python",
   "name": "python3"
  },
  "language_info": {
   "codemirror_mode": {
    "name": "ipython",
    "version": 3
   },
   "file_extension": ".py",
   "mimetype": "text/x-python",
   "name": "python",
   "nbconvert_exporter": "python",
   "pygments_lexer": "ipython3",
   "version": "3.8.11"
  }
 },
 "nbformat": 4,
 "nbformat_minor": 5
}
