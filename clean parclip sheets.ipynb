{
 "cells": [
  {
   "cell_type": "code",
   "execution_count": 1,
   "id": "23467937-ce19-4351-b7b6-45daef790e7c",
   "metadata": {},
   "outputs": [],
   "source": [
    "import os, pandas as pd "
   ]
  },
  {
   "cell_type": "code",
   "execution_count": 9,
   "id": "f00992bd-729e-41b1-a084-e59824fd1a4e",
   "metadata": {},
   "outputs": [],
   "source": [
    "#remove empty rows, add a header to data\n",
    "for filename in os.listdir(r'C:\\Users\\lawsonsa\\Desktop\\C2C2 sequencing data\\Expression data for PARCLIPed RBPs'):\n",
    "    df = pd.read_excel('C:\\\\Users\\\\lawsonsa\\\\Desktop\\\\C2C2 sequencing data\\\\Expression data for PARCLIPed RBPs\\\\' + filename, 1)\n",
    "    df = df.dropna()\n",
    "    df2 = pd.DataFrame([['RBP','HCC4017','HBEC30-KT', 'differential score']], columns=['Unnamed: 0','Unnamed: 1','Unnamed: 2','Unnamed: 3'])\n",
    "    pd.concat([df2, df]).to_excel('C:\\\\Users\\\\lawsonsa\\\\Desktop\\\\C2C2 sequencing data\\\\Expression data for PARCLIPed RBPs\\\\' + filename, sheet_name='cleaned')\n",
    "    \n"
   ]
  },
  {
   "cell_type": "code",
   "execution_count": null,
   "id": "bad94359-9e2b-40a0-96ea-f1b10e83eb21",
   "metadata": {},
   "outputs": [],
   "source": []
  }
 ],
 "metadata": {
  "kernelspec": {
   "display_name": "Python 3 (ipykernel)",
   "language": "python",
   "name": "python3"
  },
  "language_info": {
   "codemirror_mode": {
    "name": "ipython",
    "version": 3
   },
   "file_extension": ".py",
   "mimetype": "text/x-python",
   "name": "python",
   "nbconvert_exporter": "python",
   "pygments_lexer": "ipython3",
   "version": "3.8.11"
  }
 },
 "nbformat": 4,
 "nbformat_minor": 5
}
