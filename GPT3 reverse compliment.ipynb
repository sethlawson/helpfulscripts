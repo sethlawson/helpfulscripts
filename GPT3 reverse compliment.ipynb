{
 "cells": [
  {
   "cell_type": "code",
   "execution_count": 16,
   "id": "9c7f06fd-b8b5-4d7b-acf6-cc24096f1fb8",
   "metadata": {},
   "outputs": [
    {
     "name": "stdout",
     "output_type": "stream",
     "text": [
      "['UCACCCGUUAAUACGGGUACUAUUGAUCUCAGUUCUGGGCGCCAUGGCCAU']\n"
     ]
    }
   ],
   "source": [
    "\"\"\"\n",
    "Make a function which, for every RNA sequence (a string type variable made \n",
    "up of 'A', 'C', U', and 'G') in a list, it returns a list of reverse complement sequences. \n",
    "\"\"\"\n",
    "\n",
    "def reverse_complement(seq):\n",
    "    \"\"\"\n",
    "    Returns the reverse complement of an RNA sequence.\n",
    "    \"\"\"\n",
    "    complement = {'A': 'U', 'C': 'G', 'G': 'C', 'U': 'A'}\n",
    "    return ''.join([complement[base] for base in reversed(seq)])\n",
    "\n",
    "def reverse_complement_list(seq_list):\n",
    "    \"\"\"\n",
    "    Returns a list of reverse complements of an RNA sequence list.\n",
    "    \"\"\"\n",
    "    return [reverse_complement(seq) for seq in seq_list]\n",
    "\n",
    "# Test\n",
    "seq_list = ['AUGGCCAUGGCGCCCAGAACUGAGAUCAAUAGUACCCGUAUUAACGGGUGA']\n",
    "print(reverse_complement_list(seq_list))\n"
   ]
  }
 ],
 "metadata": {
  "kernelspec": {
   "display_name": "Python 3 (ipykernel)",
   "language": "python",
   "name": "python3"
  },
  "language_info": {
   "codemirror_mode": {
    "name": "ipython",
    "version": 3
   },
   "file_extension": ".py",
   "mimetype": "text/x-python",
   "name": "python",
   "nbconvert_exporter": "python",
   "pygments_lexer": "ipython3",
   "version": "3.8.11"
  }
 },
 "nbformat": 4,
 "nbformat_minor": 5
}
