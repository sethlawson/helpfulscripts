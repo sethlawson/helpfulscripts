{
 "cells": [
  {
   "cell_type": "code",
   "execution_count": 1,
   "id": "63104226-a17a-4ba0-8a70-31ad201bb495",
   "metadata": {},
   "outputs": [],
   "source": [
    "import pandas as pd, numpy as np"
   ]
  },
  {
   "cell_type": "code",
   "execution_count": 7,
   "id": "e0a6c630-0eb2-434c-819f-c2808791c026",
   "metadata": {},
   "outputs": [
    {
     "name": "stdout",
     "output_type": "stream",
     "text": [
      "              HBEC-1    HBEC-2    HBEC-3    4017-1    4017-2    4017-3  \\\n",
      "HBEC-1      1.000000  0.822860  0.975197  0.503107  0.502351  0.501814   \n",
      "HBEC-2      0.822860  1.000000  0.902656  0.896138  0.895948  0.896682   \n",
      "HBEC-3      0.975197  0.902656  1.000000  0.632003  0.630397  0.632235   \n",
      "4017-1      0.503107  0.896138  0.632003  1.000000  0.999866  0.999842   \n",
      "4017-2      0.502351  0.895948  0.630397  0.999866  1.000000  0.999809   \n",
      "4017-3      0.501814  0.896682  0.632235  0.999842  0.999809  1.000000   \n",
      "HBEC Exo-1  0.425065  0.618575  0.548196  0.638371  0.627453  0.635624   \n",
      "HBEC Exo-2  0.211478  0.158522  0.254499  0.091340  0.078862  0.088034   \n",
      "HBEC Exo-3  0.295464  0.388497  0.383085  0.367110  0.357520  0.364870   \n",
      "4017 Exo-1  0.517162  0.898070  0.639268  0.984187  0.983941  0.983662   \n",
      "4017 Exo-2  0.513789  0.897871  0.638130  0.984781  0.984404  0.984359   \n",
      "4017 Exo-3  0.535609  0.892301  0.649403  0.963930  0.962766  0.962119   \n",
      "\n",
      "            HBEC Exo-1  HBEC Exo-2  HBEC Exo-3  4017 Exo-1  4017 Exo-2  \\\n",
      "HBEC-1        0.425065    0.211478    0.295464    0.517162    0.513789   \n",
      "HBEC-2        0.618575    0.158522    0.388497    0.898070    0.897871   \n",
      "HBEC-3        0.548196    0.254499    0.383085    0.639268    0.638130   \n",
      "4017-1        0.638371    0.091340    0.367110    0.984187    0.984781   \n",
      "4017-2        0.627453    0.078862    0.357520    0.983941    0.984404   \n",
      "4017-3        0.635624    0.088034    0.364870    0.983662    0.984359   \n",
      "HBEC Exo-1    1.000000    0.772077    0.857436    0.666507    0.663821   \n",
      "HBEC Exo-2    0.772077    1.000000    0.820046    0.152189    0.143564   \n",
      "HBEC Exo-3    0.857436    0.820046    1.000000    0.441498    0.434253   \n",
      "4017 Exo-1    0.666507    0.152189    0.441498    1.000000    0.997082   \n",
      "4017 Exo-2    0.663821    0.143564    0.434253    0.997082    1.000000   \n",
      "4017 Exo-3    0.701862    0.205338    0.519492    0.985834    0.984826   \n",
      "\n",
      "            4017 Exo-3  \n",
      "HBEC-1        0.535609  \n",
      "HBEC-2        0.892301  \n",
      "HBEC-3        0.649403  \n",
      "4017-1        0.963930  \n",
      "4017-2        0.962766  \n",
      "4017-3        0.962119  \n",
      "HBEC Exo-1    0.701862  \n",
      "HBEC Exo-2    0.205338  \n",
      "HBEC Exo-3    0.519492  \n",
      "4017 Exo-1    0.985834  \n",
      "4017 Exo-2    0.984826  \n",
      "4017 Exo-3    1.000000  \n"
     ]
    }
   ],
   "source": [
    "#reads in pseudonormalized data, only looking at HBECs\n",
    "df = pd.read_excel(r\"C:\\Users\\lawsonsa\\Documents\\pseudonormalized miRs ending in the letter p.xlsx\")\n",
    "\n",
    "haspartner = []\n",
    "fiveplist = []\n",
    "threeplist = []\n",
    "\n",
    "\n",
    "#remove any miRs that appear more than once\n",
    "df = df.drop_duplicates(subset = ['matchID'], keep = False, ignore_index=True)  \n",
    "\n",
    "#creates a list, haspartner, consisting of miRs with necessarily both a 5p and 3p product\n",
    "for row in df['matchID']:\n",
    "    if row[-2] == '3':\n",
    "        threeplist.append(row)\n",
    "    elif row[-2] == '5':\n",
    "        fiveplist.append(row)\n",
    "    else:\n",
    "        print('problem, you left a bad row: ' + row)\n",
    "\n",
    "for i in fiveplist:\n",
    "    for j in threeplist:\n",
    "        if i[:-2] == j[:-2]:\n",
    "            haspartner.append(i)\n",
    "            haspartner.append(j)\n",
    "\n",
    "#uses haspartner to trim dataframe of data to only those with 5p and 3p products, fills 0-reads for 1s\n",
    "df = df.loc[df['matchID'].isin(haspartner)]\n",
    "df = df.set_index('matchID')\n",
    "df = df.replace(0, 1)\n",
    "\n",
    "#takes ratio of 5p product to 3p product, note the plus and minus 1s are because the rows of the original df are alphabetized and 3ps come first\n",
    "i = 1\n",
    "while i < len(haspartner)+1:\n",
    "    df.iloc[i] = df.iloc[i]/df.iloc[(i-1)]\n",
    "    #df.iloc[i+1] = np.NaN\n",
    "    i += 2\n",
    "\n",
    "for row in df.index:\n",
    "    if row[-2] == '3':\n",
    "        df = df.drop(row)\n",
    "\n",
    "#print(df)\n",
    "print(df.corr())\n",
    "\n",
    "#df.corr().to_excel(r\"C:\\Users\\lawsonsa\\Documents\\correlationmatrix.xlsx\")\n",
    "#df.to_excel(r\"C:\\Users\\lawsonsa\\Documents\\cleanedratios.xlsx\")"
   ]
  },
  {
   "cell_type": "code",
   "execution_count": null,
   "id": "40598c1b-5acf-4cfd-b189-71e6342b4164",
   "metadata": {},
   "outputs": [],
   "source": []
  }
 ],
 "metadata": {
  "kernelspec": {
   "display_name": "Python 3 (ipykernel)",
   "language": "python",
   "name": "python3"
  },
  "language_info": {
   "codemirror_mode": {
    "name": "ipython",
    "version": 3
   },
   "file_extension": ".py",
   "mimetype": "text/x-python",
   "name": "python",
   "nbconvert_exporter": "python",
   "pygments_lexer": "ipython3",
   "version": "3.8.11"
  }
 },
 "nbformat": 4,
 "nbformat_minor": 5
}
