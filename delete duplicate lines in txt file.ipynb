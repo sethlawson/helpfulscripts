{
 "cells": [
  {
   "cell_type": "code",
   "execution_count": 3,
   "id": "f577dba8-e408-487c-8cf1-e595fc718859",
   "metadata": {},
   "outputs": [],
   "source": [
    "lines_seen = set() # holds lines already seen\n",
    "outfile = open('C:\\\\Users\\\\lawsonsa\\\\Documents\\\\fasta sequences for top 40 differential miRNAs for each graph, concatenated and duplicates removed.txt', \"w\")\n",
    "for line in open(r'C:\\Users\\lawsonsa\\Documents\\temp.txt', \"r\"):\n",
    "    if line not in lines_seen: # not a duplicate\n",
    "        outfile.write(line)\n",
    "        lines_seen.add(line)\n",
    "outfile.close()"
   ]
  },
  {
   "cell_type": "code",
   "execution_count": null,
   "id": "6dfaaec4-d74b-4345-a710-cee3e43208e5",
   "metadata": {},
   "outputs": [],
   "source": []
  }
 ],
 "metadata": {
  "kernelspec": {
   "display_name": "Python 3 (ipykernel)",
   "language": "python",
   "name": "python3"
  },
  "language_info": {
   "codemirror_mode": {
    "name": "ipython",
    "version": 3
   },
   "file_extension": ".py",
   "mimetype": "text/x-python",
   "name": "python",
   "nbconvert_exporter": "python",
   "pygments_lexer": "ipython3",
   "version": "3.8.11"
  }
 },
 "nbformat": 4,
 "nbformat_minor": 5
}
