{
 "cells": [
  {
   "cell_type": "code",
   "execution_count": 67,
   "id": "050e6bed-d38c-4df7-a757-9cb49dbabbf6",
   "metadata": {},
   "outputs": [
    {
     "name": "stdout",
     "output_type": "stream",
     "text": [
      "Empty DataFrame\n",
      "Columns: []\n",
      "Index: []\n"
     ]
    }
   ],
   "source": [
    "#looks at the second sheet of the spreadsheet to find list of names, note this could be replaced with any other df for the names in a column\n",
    "#generates a notebook hosted txt file for desired fastas\n",
    "import pandas as pd\n",
    "\n",
    "df = pd.read_excel(r'C:\\Users\\lawsonsa\\Desktop\\miR list for heatmap.xlsx', 0)\n",
    "count = 0\n",
    "recipient = open('extracted fasta sequences.txt', 'w')\n",
    "\n",
    "\n",
    "#open fasta of all mature mirnas, make DF of sequences and names\n",
    "seqs = open(r'C:\\Users\\lawsonsa\\Documents\\mature human miRNAs.fa.txt', 'r')\n",
    "lines = seqs.readlines()\n",
    "\n",
    "fasta_df = pd.DataFrame()\n",
    "print(fasta_df)\n",
    "for iter, line in enumerate(lines):\n",
    "    if iter%2:       \n",
    "        data_row = pd.Series({'name':lines[iter-1][1:-1], 'seq': line[:-1]})\n",
    "        fasta_df = fasta_df.append(pd.DataFrame(data_row).T, ignore_index = True)\n",
    "        \n",
    "fasta_df.to_csv('fasta_df.csv')\n",
    "#test = df.iloc[:, 0].isin(fasta_df[:][0])\n",
    "#print(fasta_df[0])\n",
    "#print(test.value_counts())\n",
    "\n",
    "\n",
    "'''\n",
    "for row in df.iloc[:, 0]:\n",
    "    found = False\n",
    "    for line in lines:\n",
    "        if row in line:\n",
    "            #head_and_seq = [lines[lines.index(line)], lines[lines.index(line)+1]]\n",
    "            #head_and_seq = [lines[lines.index(line)], lines[lines.index(line)+1][:8], '\\n']\n",
    "            head_and_seq = [lines[lines.index(line)], lines[lines.index(line)+1][8:]]\n",
    "            count += 1\n",
    "            recipient.writelines('\\n'.join(head_and_seq))\n",
    "            found = True\n",
    "        else:\n",
    "            print(row)\n",
    "            print(line)\n",
    "    #if not found:\n",
    "        #print(row + ' not found')\n",
    "'''\n",
    "recipient.close()\n",
    "seqs.close()\n",
    "#print(str(count) + ' sequence matches found in mature human miRNAs.fa.txt')"
   ]
  },
  {
   "cell_type": "code",
   "execution_count": null,
   "id": "26bef61a-5fac-4e61-afb3-3bb55b529b68",
   "metadata": {},
   "outputs": [],
   "source": []
  }
 ],
 "metadata": {
  "kernelspec": {
   "display_name": "Python 3 (ipykernel)",
   "language": "python",
   "name": "python3"
  },
  "language_info": {
   "codemirror_mode": {
    "name": "ipython",
    "version": 3
   },
   "file_extension": ".py",
   "mimetype": "text/x-python",
   "name": "python",
   "nbconvert_exporter": "python",
   "pygments_lexer": "ipython3",
   "version": "3.8.11"
  }
 },
 "nbformat": 4,
 "nbformat_minor": 5
}
